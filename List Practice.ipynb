{
 "cells": [
  {
   "cell_type": "markdown",
   "id": "d6c8e8fc",
   "metadata": {},
   "source": [
    "# List\n",
    "---"
   ]
  },
  {
   "cell_type": "code",
   "execution_count": 71,
   "id": "8ca5e03c",
   "metadata": {},
   "outputs": [
    {
     "data": {
      "text/plain": [
       "['apple', 'banana', 'cherry', 'orange', 'kiwi', 'melon', 'mango']"
      ]
     },
     "execution_count": 71,
     "metadata": {},
     "output_type": "execute_result"
    }
   ],
   "source": [
    "# One way to make a list\n",
    "lst = [\"apple\", \"banana\", \"cherry\", \"orange\", \"kiwi\", \"melon\", \"mango\"]\n",
    "lst"
   ]
  },
  {
   "cell_type": "code",
   "execution_count": 72,
   "id": "ed063689",
   "metadata": {},
   "outputs": [
    {
     "data": {
      "text/plain": [
       "['apple', 'banana', 'cherry', 'orange', 'kiwi']"
      ]
     },
     "execution_count": 72,
     "metadata": {},
     "output_type": "execute_result"
    }
   ],
   "source": [
    "# Another way to make a list using list() function\n",
    "lst1= list((\"apple\", \"banana\", \"cherry\", \"orange\", \"kiwi\"))\n",
    "lst1"
   ]
  },
  {
   "cell_type": "code",
   "execution_count": 73,
   "id": "6fa954ac",
   "metadata": {},
   "outputs": [
    {
     "name": "stdout",
     "output_type": "stream",
     "text": [
      "7\n",
      "5\n"
     ]
    }
   ],
   "source": [
    "# Length of a list\n",
    "print(len(lst))\n",
    "print(len(lst1))"
   ]
  },
  {
   "cell_type": "code",
   "execution_count": 74,
   "id": "d53e7213",
   "metadata": {},
   "outputs": [
    {
     "name": "stdout",
     "output_type": "stream",
     "text": [
      "apple\n",
      "banana\n",
      "cherry\n",
      "orange\n",
      "kiwi\n",
      "melon\n",
      "mango\n",
      "++++++++++\n",
      "indexes of list =\n",
      "0\n",
      "1\n",
      "2\n",
      "3\n",
      "4\n",
      "5\n",
      "6\n"
     ]
    }
   ],
   "source": [
    "# Indexing a list, Index starts from 0 to end\n",
    "\n",
    "print(lst[0])\n",
    "print(lst[1])\n",
    "print(lst[2])\n",
    "print(lst[3])\n",
    "print(lst[4])\n",
    "print(lst[5])\n",
    "print(lst[6])\n",
    "print('+'*10)\n",
    "print(\"indexes of list =\")\n",
    "for i in range(len(lst)):\n",
    "    print(i)"
   ]
  },
  {
   "cell_type": "code",
   "execution_count": 76,
   "id": "2a50b913",
   "metadata": {},
   "outputs": [
    {
     "name": "stdout",
     "output_type": "stream",
     "text": [
      "apple\n",
      "banana\n",
      "cherry\n",
      "orange\n",
      "kiwi\n",
      "melon\n",
      "mango\n",
      "----------\n",
      "apple\n",
      "banana\n",
      "cherry\n",
      "orange\n",
      "kiwi\n",
      "melon\n",
      "mango\n",
      "----------\n",
      "apple\n",
      "banana\n",
      "cherry\n",
      "orange\n",
      "kiwi\n",
      "melon\n",
      "mango\n"
     ]
    },
    {
     "data": {
      "text/plain": [
       "[None, None, None, None, None, None, None]"
      ]
     },
     "execution_count": 76,
     "metadata": {},
     "output_type": "execute_result"
    }
   ],
   "source": [
    "# Printing all elements in a list\n",
    "for i in lst:\n",
    "    print(i)\n",
    "print(\"-\"*10)\n",
    "\n",
    "for i in range(0,len(lst)):\n",
    "    print(lst[i])\n",
    "print(\"-\"*10)   \n",
    "[print(x) for x in lst]"
   ]
  },
  {
   "cell_type": "code",
   "execution_count": 77,
   "id": "2c5303c7",
   "metadata": {},
   "outputs": [
    {
     "name": "stdout",
     "output_type": "stream",
     "text": [
      "mango\n",
      "melon\n"
     ]
    }
   ],
   "source": [
    "# Negative Indexes \n",
    "print(lst[-1]) #prints the last element of list\n",
    "print(lst[-2]) #prints the secondlast element of list"
   ]
  },
  {
   "cell_type": "code",
   "execution_count": 78,
   "id": "a302f97b",
   "metadata": {},
   "outputs": [
    {
     "name": "stdout",
     "output_type": "stream",
     "text": [
      "['apple', 'banana', 'cherry', 'orange', 'kiwi', 'melon', 'mango']\n",
      "['apple', 'banana', 'cherry', 'orange', 'kiwi', 'melon', 'mango']\n",
      "['apple', 'banana', 'cherry', 'orange', 'kiwi', 'melon', 'mango']\n",
      "['apple', 'cherry', 'kiwi', 'mango']\n",
      "['apple', 'orange', 'mango']\n",
      "['apple', 'banana', 'cherry', 'orange', 'kiwi', 'melon', 'mango']\n",
      "['cherry', 'orange', 'kiwi', 'melon']\n",
      "['mango', 'melon', 'kiwi', 'orange', 'cherry', 'banana', 'apple']\n",
      "['cherry', 'orange', 'kiwi', 'melon', 'mango']\n",
      "['apple', 'banana', 'cherry', 'orange']\n"
     ]
    }
   ],
   "source": [
    "# Slicing\n",
    "# ListName[Start Position : End Position : Jump] \n",
    "print(lst[:]) #Prints the whole list\n",
    "\n",
    "print(lst[0:len(lst)])  #Prints the whole list\n",
    "\n",
    "print(lst[0:7:1])  #Prints the whole list jump is set 1, no skiping\n",
    "\n",
    "print(lst[::2]) # Skips by 1\n",
    "\n",
    "print(lst[::3]) # Skips by 2\n",
    "\n",
    "print(lst[:])\n",
    "\n",
    "print(lst[2:6]) # Prints the elements from index 2 and end at index 6 but 6th index is not included\n",
    "\n",
    "print(lst[::-1]) # Prints the list in backwards\n",
    "\n",
    "print(lst[2:]) # Starts from 2nd index to very end\n",
    "\n",
    "print(lst[:4]) # Starts from 0th index to 4th exluding the 4th element"
   ]
  },
  {
   "cell_type": "code",
   "execution_count": 79,
   "id": "6a0bb8ca",
   "metadata": {},
   "outputs": [
    {
     "name": "stdout",
     "output_type": "stream",
     "text": [
      "found\n"
     ]
    }
   ],
   "source": [
    "# Check if Item Exists\n",
    "if \"cherry\" in lst:\n",
    "    print('found')\n",
    "else:\n",
    "    print('not found')"
   ]
  },
  {
   "cell_type": "code",
   "execution_count": 80,
   "id": "c64c6454",
   "metadata": {},
   "outputs": [
    {
     "data": {
      "text/plain": [
       "['apple', 'banana', 'cherry', 'orange', 'kiwi', 'melon', 'mango']"
      ]
     },
     "execution_count": 80,
     "metadata": {},
     "output_type": "execute_result"
    }
   ],
   "source": [
    "lst"
   ]
  },
  {
   "cell_type": "code",
   "execution_count": 81,
   "id": "cadce3ad",
   "metadata": {},
   "outputs": [],
   "source": [
    "lst[2]=\"Payam\" # Changed 2nd index item "
   ]
  },
  {
   "cell_type": "code",
   "execution_count": 82,
   "id": "d96b53a6",
   "metadata": {},
   "outputs": [
    {
     "data": {
      "text/plain": [
       "['apple', 'banana', 'Payam', 'orange', 'kiwi', 'melon', 'mango']"
      ]
     },
     "execution_count": 82,
     "metadata": {},
     "output_type": "execute_result"
    }
   ],
   "source": [
    "lst"
   ]
  },
  {
   "cell_type": "code",
   "execution_count": 83,
   "id": "e49c5241",
   "metadata": {},
   "outputs": [
    {
     "data": {
      "text/plain": [
       "['apple', 'blackcurrant', 'watermelon', 'orange', 'kiwi', 'melon', 'mango']"
      ]
     },
     "execution_count": 83,
     "metadata": {},
     "output_type": "execute_result"
    }
   ],
   "source": [
    "lst[1:3] = [\"blackcurrant\", \"watermelon\"]\n",
    "lst"
   ]
  },
  {
   "cell_type": "code",
   "execution_count": 84,
   "id": "4d70da50",
   "metadata": {},
   "outputs": [
    {
     "data": {
      "text/plain": [
       "['payam',\n",
       " 'apple',\n",
       " 'blackcurrant',\n",
       " 'watermelon',\n",
       " 'orange',\n",
       " 'kiwi',\n",
       " 'melon',\n",
       " 'mango']"
      ]
     },
     "execution_count": 84,
     "metadata": {},
     "output_type": "execute_result"
    }
   ],
   "source": [
    "# To insert a new list item, without replacing any of the existing values, we can use the insert() method.\n",
    "# The insert() method inserts an item at the specified index:\n",
    "lst.insert(0,'payam')\n",
    "lst"
   ]
  },
  {
   "cell_type": "code",
   "execution_count": 85,
   "id": "c536b4ec",
   "metadata": {},
   "outputs": [
    {
     "data": {
      "text/plain": [
       "['payam',\n",
       " 'apple',\n",
       " 'blackcurrant',\n",
       " 'watermelon',\n",
       " 'orange',\n",
       " 'kiwi',\n",
       " 'melon',\n",
       " 'mango',\n",
       " 'Chakka']"
      ]
     },
     "execution_count": 85,
     "metadata": {},
     "output_type": "execute_result"
    }
   ],
   "source": [
    "# To add an item to the end of the list, use the append() method:\n",
    "lst.append('Chakka')\n",
    "lst"
   ]
  },
  {
   "cell_type": "code",
   "execution_count": 86,
   "id": "3df06a46",
   "metadata": {},
   "outputs": [
    {
     "data": {
      "text/plain": [
       "['payam',\n",
       " 'apple',\n",
       " 'blackcurrant',\n",
       " 'watermelon',\n",
       " 'orange',\n",
       " 'kiwi',\n",
       " 'melon',\n",
       " 'mango',\n",
       " 'Chakka',\n",
       " 'apple',\n",
       " 'banana',\n",
       " 'cherry',\n",
       " 'orange',\n",
       " 'kiwi']"
      ]
     },
     "execution_count": 86,
     "metadata": {},
     "output_type": "execute_result"
    }
   ],
   "source": [
    "# To append elements from another list to the current list, use the extend() method.\n",
    "lst.extend(lst1)\n",
    "lst"
   ]
  },
  {
   "cell_type": "code",
   "execution_count": 87,
   "id": "d3c51296",
   "metadata": {},
   "outputs": [
    {
     "data": {
      "text/plain": [
       "['apple', 'banana', 'cherry', 'orange', 'kiwi', 'melon', 'mango', 'apple']"
      ]
     },
     "execution_count": 87,
     "metadata": {},
     "output_type": "execute_result"
    }
   ],
   "source": [
    "# The remove() method removes the specified item.\n",
    "lst = [\"apple\", \"banana\", \"cherry\", \"orange\", \"kiwi\", \"melon\", \"mango\"]\n",
    "lst.append('apple')\n",
    "lst"
   ]
  },
  {
   "cell_type": "code",
   "execution_count": 88,
   "id": "1b72a80f",
   "metadata": {},
   "outputs": [
    {
     "data": {
      "text/plain": [
       "['banana', 'cherry', 'orange', 'kiwi', 'melon', 'mango', 'apple']"
      ]
     },
     "execution_count": 88,
     "metadata": {},
     "output_type": "execute_result"
    }
   ],
   "source": [
    "lst.remove('apple') # Removes the first search item it encounters\n",
    "lst"
   ]
  },
  {
   "cell_type": "code",
   "execution_count": 89,
   "id": "513f9101",
   "metadata": {},
   "outputs": [
    {
     "data": {
      "text/plain": [
       "['apple', 'banana', 'cherry', 'orange', 'kiwi', 'melon', 'mango', 'apple']"
      ]
     },
     "execution_count": 89,
     "metadata": {},
     "output_type": "execute_result"
    }
   ],
   "source": [
    "lst.insert(0,'apple')\n",
    "lst"
   ]
  },
  {
   "cell_type": "code",
   "execution_count": 90,
   "id": "2ebf3801",
   "metadata": {},
   "outputs": [
    {
     "name": "stdout",
     "output_type": "stream",
     "text": [
      "['banana', 'cherry', 'orange', 'kiwi', 'melon', 'mango', 'apple']\n"
     ]
    }
   ],
   "source": [
    "# The pop() method removes the specified index.\n",
    "lst.pop(0)\n",
    "print(lst)"
   ]
  },
  {
   "cell_type": "code",
   "execution_count": 91,
   "id": "d271dcf4",
   "metadata": {},
   "outputs": [
    {
     "data": {
      "text/plain": [
       "['banana', 'cherry', 'orange', 'kiwi', 'melon', 'mango']"
      ]
     },
     "execution_count": 91,
     "metadata": {},
     "output_type": "execute_result"
    }
   ],
   "source": [
    "lst.pop() #if no index is provided it removes the last element\n",
    "lst"
   ]
  },
  {
   "cell_type": "code",
   "execution_count": 65,
   "id": "13e7383b",
   "metadata": {},
   "outputs": [
    {
     "name": "stdout",
     "output_type": "stream",
     "text": [
      "['apple', 'banana', 'cherry', 'orange', 'kiwi', 'melon', 'mango']\n",
      "['apple', 'cherry', 'orange', 'kiwi', 'melon', 'mango']\n"
     ]
    },
    {
     "ename": "NameError",
     "evalue": "name 'lst' is not defined",
     "output_type": "error",
     "traceback": [
      "\u001b[1;31m---------------------------------------------------------------------------\u001b[0m",
      "\u001b[1;31mNameError\u001b[0m                                 Traceback (most recent call last)",
      "\u001b[1;32m<ipython-input-65-6ae356637918>\u001b[0m in \u001b[0;36m<module>\u001b[1;34m\u001b[0m\n\u001b[0;32m      5\u001b[0m \u001b[0mprint\u001b[0m\u001b[1;33m(\u001b[0m\u001b[0mlst\u001b[0m\u001b[1;33m)\u001b[0m\u001b[1;33m\u001b[0m\u001b[1;33m\u001b[0m\u001b[0m\n\u001b[0;32m      6\u001b[0m \u001b[1;32mdel\u001b[0m \u001b[0mlst\u001b[0m \u001b[1;31m# Deletes the whole list\u001b[0m\u001b[1;33m\u001b[0m\u001b[1;33m\u001b[0m\u001b[0m\n\u001b[1;32m----> 7\u001b[1;33m \u001b[0mprint\u001b[0m\u001b[1;33m(\u001b[0m\u001b[0mlst\u001b[0m\u001b[1;33m)\u001b[0m\u001b[1;33m\u001b[0m\u001b[1;33m\u001b[0m\u001b[0m\n\u001b[0m",
      "\u001b[1;31mNameError\u001b[0m: name 'lst' is not defined"
     ]
    }
   ],
   "source": [
    "# The del keyword also removes the specified index\n",
    "lst = [\"apple\", \"banana\", \"cherry\", \"orange\", \"kiwi\", \"melon\", \"mango\"]\n",
    "print(lst)\n",
    "\n",
    "del lst[1]\n",
    "\n",
    "print(lst)\n",
    "\n",
    "del lst # Deletes the whole list\n",
    "\n",
    "print(lst) # Returns error message because the list does not exist"
   ]
  },
  {
   "cell_type": "code",
   "execution_count": 92,
   "id": "827fcd51",
   "metadata": {},
   "outputs": [
    {
     "name": "stdout",
     "output_type": "stream",
     "text": [
      "['apple', 'banana', 'cherry', 'orange', 'kiwi', 'melon', 'mango']\n",
      "[]\n"
     ]
    }
   ],
   "source": [
    "# The clear() method empties the list.\n",
    "# The list still remains, but it has no content.\n",
    "lst = [\"apple\", \"banana\", \"cherry\", \"orange\", \"kiwi\", \"melon\", \"mango\"]\n",
    "\n",
    "print(lst)\n",
    "\n",
    "lst.clear()\n",
    "\n",
    "print(lst) # Returns an empty list because the elements have been deleted"
   ]
  },
  {
   "cell_type": "code",
   "execution_count": 96,
   "id": "a466170f",
   "metadata": {},
   "outputs": [
    {
     "name": "stdout",
     "output_type": "stream",
     "text": [
      "['apple', 'banana', 'cherry', 'orange', 'kiwi', 'melon', 'mango']\n",
      "['apple', 'cherry', 'orange', 'melon']\n"
     ]
    }
   ],
   "source": [
    "# List comprehension offers a shorter syntax when you want to create a new list based on the values of an existing list.\n",
    "\n",
    "# newlist = [expression for item in iterable if condition == True]\n",
    "lst = [\"apple\", \"banana\", \"cherry\", \"orange\", \"kiwi\", \"melon\", \"mango\"]\n",
    "print(lst)\n",
    "lst2=[]\n",
    "for i in lst:\n",
    "    if \"e\" in i:\n",
    "        lst2.append(i)\n",
    "print(lst2)"
   ]
  },
  {
   "cell_type": "code",
   "execution_count": 103,
   "id": "818dd18a",
   "metadata": {},
   "outputs": [
    {
     "data": {
      "text/plain": [
       "['A', 'P', 'P', 'L', 'E']"
      ]
     },
     "execution_count": 103,
     "metadata": {},
     "output_type": "execute_result"
    }
   ],
   "source": [
    "lst=[i.upper() for i in 'Apple']\n",
    "lst"
   ]
  },
  {
   "cell_type": "code",
   "execution_count": 107,
   "id": "74da13f8",
   "metadata": {},
   "outputs": [
    {
     "name": "stdout",
     "output_type": "stream",
     "text": [
      "['apple', 'banana', 'cherry', 'kiwi', 'mango', 'melon', 'orange']\n",
      "['orange', 'melon', 'mango', 'kiwi', 'cherry', 'banana', 'apple']\n"
     ]
    }
   ],
   "source": [
    "# Sorting elements in array using sort()\n",
    "\n",
    "# To sort descending, use the keyword argument reverse = True:\n",
    "\n",
    "lst = [\"apple\", \"banana\", \"cherry\", \"orange\", \"kiwi\", \"melon\", \"mango\"]\n",
    "\n",
    "lst.sort()\n",
    "print(lst)\n",
    "\n",
    "lst.sort(reverse=True)\n",
    "print(lst)"
   ]
  },
  {
   "cell_type": "code",
   "execution_count": 109,
   "id": "becfab39",
   "metadata": {},
   "outputs": [
    {
     "name": "stdout",
     "output_type": "stream",
     "text": [
      "Generated List [24, 14, 8, 10, 4, 17, 7, 14, 21, 17]\n",
      "Sorted in Ascending Order [4, 7, 8, 10, 14, 14, 17, 17, 21, 24]\n",
      "Sorted in Descending Order [24, 21, 17, 17, 14, 14, 10, 8, 7, 4]\n"
     ]
    }
   ],
   "source": [
    "import random\n",
    "lst=[]\n",
    "for i in range(10):\n",
    "    lst.append(random. randint(0,25))\n",
    "print(\"Generated List\", lst)\n",
    "lst.sort()\n",
    "print(\"Sorted in Ascending Order\", lst)\n",
    "lst.sort(reverse=True)\n",
    "print(\"Sorted in Descending Order\",lst)"
   ]
  },
  {
   "cell_type": "code",
   "execution_count": 111,
   "id": "6886905f",
   "metadata": {},
   "outputs": [
    {
     "data": {
      "text/plain": [
       "['Kiwi', 'Orange', 'banana', 'cherry']"
      ]
     },
     "execution_count": 111,
     "metadata": {},
     "output_type": "execute_result"
    }
   ],
   "source": [
    "# By default the sort() method is case sensitive, resulting in all capital letters being sorted before lower case letters:\n",
    "lst = [\"banana\", \"Orange\", \"Kiwi\", \"cherry\"]\n",
    "lst.sort()\n",
    "lst"
   ]
  },
  {
   "cell_type": "code",
   "execution_count": 116,
   "id": "b512f48b",
   "metadata": {},
   "outputs": [
    {
     "name": "stdout",
     "output_type": "stream",
     "text": [
      "Original List ['banana', 'Orange', 'Kiwi', 'cherry']\n",
      "After revering the order ['cherry', 'Kiwi', 'Orange', 'banana']\n",
      "\n",
      "\n",
      "Original List [1, 23, 4, 58, 6, 856, 8, 4]\n",
      "After Reversing [4, 8, 856, 6, 58, 4, 23, 1]\n"
     ]
    }
   ],
   "source": [
    "# The reverse() method reverses the order of the elements.\n",
    "\n",
    "lst = [\"banana\", \"Orange\", \"Kiwi\", \"cherry\"]\n",
    "print(\"Original List\",lst)\n",
    "lst.reverse()\n",
    "print(\"After revering the order\",lst)\n",
    "print('\\n')\n",
    "a=[1,23,4,58,6,856,8,4]\n",
    "print(\"Original List\",a)\n",
    "a.reverse()\n",
    "print(\"After Reversing\", a)"
   ]
  },
  {
   "cell_type": "code",
   "execution_count": 125,
   "id": "61dae25a",
   "metadata": {},
   "outputs": [
    {
     "name": "stdout",
     "output_type": "stream",
     "text": [
      "lst1 =  [1, 2, 36, 5, 4, 56, 8, 9, 5, 55]\n",
      "lst2 =  [1, 2, 36, 5, 4, 56, 8, 9, 5, 55]\n",
      "lst1 = [1, 2, 'hai', 'hello', 4, 56, 8, 9, 5, 55] and lst2 = [1, 2, 'hai', 'hello', 4, 56, 8, 9, 5, 55]\n",
      "lst = ['banana', 'Orange', 'Kiwi', 'cherry'] lst1 = ['banana', 'Orange', 'Kiwi', 'cherry']\n",
      "lst = ['Apple', 'Orange', 'Kiwi', 'cherry'] lst1 = ['banana', 'Orange', 'Kiwi', 'cherry']\n"
     ]
    }
   ],
   "source": [
    "#You cannot copy a list simply by typing list2 = list1, because: list2 will only be a reference to list1,\n",
    "# and changes made in list1 will automatically also be made in list2\n",
    "\n",
    "lst1=[1,2,36,5,4,56,8,9,5,55]\n",
    "\n",
    "print(\"lst1 = \",lst1)\n",
    "\n",
    "lst2=lst1 # Assigning lst2 as lst1\n",
    "\n",
    "print(\"lst2 = \",lst2)\n",
    "\n",
    "lst1[2:4]=('hai','hello') # Changing Only lst1\n",
    "\n",
    "print(\"lst1 = {} and lst2 = {}\".format(lst1,lst2)) # Since lst2 is assined as lst1 the changes in lst1 will be reflected in lst2\n",
    "\n",
    "# To make a copy, one way is to use the built-in List method copy()\n",
    "lst = [\"banana\", \"Orange\", \"Kiwi\", \"cherry\"]\n",
    "lst1=lst.copy() # Copy of lst is passed in lst1\n",
    "print(\"lst = {} lst1 = {}\".format(lst,lst1))\n",
    "\n",
    "lst[0]=\"Apple\"\n",
    "print(\"lst = {} lst1 = {}\".format(lst,lst1)) #Lst1 is not affected by the changes in lst"
   ]
  },
  {
   "cell_type": "code",
   "execution_count": 128,
   "id": "115a29aa",
   "metadata": {},
   "outputs": [
    {
     "name": "stdout",
     "output_type": "stream",
     "text": [
      "['banana', 'Orange', 'Kiwi', 'cherry'] [1, 2, 'hai', 'hello', 4, 56, 8, 9, 5, 55]\n",
      "['banana', 'Orange', 'Kiwi', 'cherry', 1, 2, 'hai', 'hello', 4, 56, 8, 9, 5, 55]\n"
     ]
    }
   ],
   "source": [
    "# There are several ways to join, or concatenate, two or more lists in Python.\n",
    "# One of the easiest ways are by using the + operator.\n",
    "print(lst1,lst2)\n",
    "lst3 = lst1 + lst2\n",
    "print(lst3)"
   ]
  },
  {
   "cell_type": "markdown",
   "id": "15c35a2b",
   "metadata": {},
   "source": [
    "---"
   ]
  },
  {
   "cell_type": "markdown",
   "id": "242a37e8",
   "metadata": {},
   "source": [
    "## Methods & Description\n",
    "### append()\t- \t- Adds an element at the end of the list\n",
    "### clear()\t- \tRemoves all the elements from the list\n",
    "### copy()\t\t- Returns a copy of the list\n",
    "### count()\t- \tReturns the number of elements with the specified value\n",
    "### extend()\t- \tAdd the elements of a list (or any iterable), to the end of the current list\n",
    "### index()\t\t- Returns the index of the first element with the specified value\n",
    "### insert()\t- \tAdds an element at the specified position\n",
    "### pop()\t\t- Removes the element at the specified position\n",
    "### remove()\t\t- Removes the item with the specified value\n",
    "### reverse()\t\t- Reverses the order of the list\n",
    "### sort()\t- \tSorts the list"
   ]
  },
  {
   "cell_type": "code",
   "execution_count": null,
   "id": "82559204",
   "metadata": {},
   "outputs": [],
   "source": []
  }
 ],
 "metadata": {
  "kernelspec": {
   "display_name": "Python 3",
   "language": "python",
   "name": "python3"
  },
  "language_info": {
   "codemirror_mode": {
    "name": "ipython",
    "version": 3
   },
   "file_extension": ".py",
   "mimetype": "text/x-python",
   "name": "python",
   "nbconvert_exporter": "python",
   "pygments_lexer": "ipython3",
   "version": "3.8.8"
  }
 },
 "nbformat": 4,
 "nbformat_minor": 5
}
